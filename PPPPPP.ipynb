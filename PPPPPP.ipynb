{
 "cells": [
  {
   "cell_type": "code",
   "execution_count": 1,
   "id": "43b327e9-40e8-4f39-abee-ffb1153a285f",
   "metadata": {},
   "outputs": [],
   "source": [
    "#Step 1: Load the Data\n",
    "import pandas as pd\n",
    "import numpy as np\n",
    "import seaborn as sns\n",
    "import matplotlib.pyplot as plt\n",
    "from sklearn import metrics\n",
    "from sklearn.metrics import r2_score\n",
    "from sklearn.model_selection import train_test_split\n",
    "from sklearn import linear_model\n",
    "\n"
   ]
  },
  {
   "cell_type": "code",
   "execution_count": 2,
   "id": "49418dd2-a1a9-401b-a171-3f9822ab8f6e",
   "metadata": {},
   "outputs": [],
   "source": [
    "# Load the provided data\n",
    "population_data = pd.read_csv('datasets/Countries_Population_final.csv')\n",
    "# Load the provided data\n",
    "population_countries = pd.read_csv('datasets/Countries_names.csv')\n"
   ]
  },
  {
   "cell_type": "code",
   "execution_count": 4,
   "id": "3c60e32e-96a5-4577-af0e-69c5ad369eb4",
   "metadata": {},
   "outputs": [],
   "source": [
    "\n",
    "# Western Balkan countries\n",
    "western_balkan_countries = [\"Albania\", \"Bosnia and Herzegovina\", \"Croatia\", \"Kosovo\", \"Montenegro\", \"North Macedonia\", \"Serbia\"]\n"
   ]
  },
  {
   "cell_type": "code",
   "execution_count": 5,
   "id": "bc9e1296-2f5c-43ac-bccb-cb3a80e7d155",
   "metadata": {},
   "outputs": [],
   "source": [
    "# Filter data for Western Balkan countries\n",
    "balkan_data = population_data[['Year'] + western_balkan_countries]\n"
   ]
  },
  {
   "cell_type": "code",
   "execution_count": null,
   "id": "08330469-2168-4972-ad61-51b2b988ca2a",
   "metadata": {},
   "outputs": [],
   "source": [
    "# Display the first few rows of the filtered data\n",
    "balkan_data.head()"
   ]
  },
  {
   "cell_type": "code",
   "execution_count": 8,
   "id": "63a60896-f7b6-4d32-9a23-0f48936b26a7",
   "metadata": {},
   "outputs": [
    {
     "name": "stdout",
     "output_type": "stream",
     "text": [
      "   Year    Albania  Bosnia and Herzegovina    Croatia     Kosovo  Montenegro  \\\n",
      "0  1960  1608800.0               3262539.0  4140181.0   947000.0    480579.0   \n",
      "1  1961  1659800.0               3325333.0  4167292.0   966000.0    491140.0   \n",
      "2  1962  1711319.0               3387512.0  4196712.0   994000.0    502558.0   \n",
      "3  1963  1762621.0               3448532.0  4225675.0  1022000.0    513409.0   \n",
      "4  1964  1814135.0               3507959.0  4252876.0  1050000.0    521753.0   \n",
      "\n",
      "   North Macedonia     Serbia  \n",
      "0        1462368.0  6608000.0  \n",
      "1        1481112.0  6655000.0  \n",
      "2        1497338.0  6696000.0  \n",
      "3        1511854.0  6732000.0  \n",
      "4        1529507.0  6765000.0  \n"
     ]
    }
   ],
   "source": [
    "# Make a copy of the DataFrame to avoid SettingWithCopyWarning\n",
    "balkan_data_clean = balkan_data.copy()\n",
    "\n",
    "# Drop rows with missing data\n",
    "balkan_data_clean.dropna(inplace=True)\n",
    "\n",
    "# Display the first few rows of the filtered data\n",
    "print(balkan_data_clean.head())"
   ]
  },
  {
   "cell_type": "code",
   "execution_count": null,
   "id": "77539eac-ec66-47f8-a291-3bb83ebd9941",
   "metadata": {},
   "outputs": [],
   "source": [
    "# Prepare for linear regression\n",
    "results = {}\n",
    "\n",
    "for country in western_balkan_countries:\n",
    "    X = balkan_data_clean[['Year']].values\n",
    "    Y = balkan_data_clean[country].values\n",
    "    \n",
    "    # Normalize the target variable\n",
    "    minimum = Y.min()\n",
    "    maximum = Y.max()\n",
    "    Y_normalized = (Y - minimum) / (maximum - minimum)\n",
    "\n",
    "    # Split data for training\n",
    "    X_train = X[7:]\n",
    "    Y_train = Y_normalized[7:]\n",
    "\n",
    "    # Train the linear regression model\n",
    "    model = linear_model.LinearRegression()\n",
    "    model.fit(X_train, Y_train)\n",
    "    ypred = model.predict(X_train)\n",
    "    \n",
    "    # Calculate model parameters\n",
    "    m = model.coef_[0]\n",
    "    d = model.intercept_\n",
    "    r2 = r2_score(Y_train, ypred)\n",
    "    mse = metrics.mean_squared_error(Y_train, ypred)\n",
    "\n",
    "    # Predictions for specific years\n",
    "    prediction_years = np.array([[2040], [2050]])\n",
    "    predictions_normalized = model.predict(prediction_years)\n",
    "    predictions = predictions_normalized * (maximum - minimum) + minimum\n",
    "    \n",
    "    print(f\"{country}:\")\n",
    "    print(f\"  Best fit line: y = {m:.3f}x + {d:.3f}\")\n",
    "    print(f\"  R2 coefficient: {r2:.3f}\")\n",
    "    print(f\"  Mean Squared Error (Normalization): {mse:.4f}\")\n",
    "    print(f\"  2040 {country} population: {predictions[0]:,.0f}\")\n",
    "    print(f\"  2050 {country} population: {predictions[1]:,.0f}\")\n",
    "\n",
    "    # Save results for plotting\n",
    "    results[country] = {\n",
    "        'X': X,\n",
    "        'Y': Y,\n",
    "        'model': model,\n",
    "        'minimum': minimum,\n",
    "        'maximum': maximum\n",
    "    }\n",
    "\n",
    "    # Plot the predictions\n",
    "    plt.figure(figsize=(10, 5))\n",
    "    plt.plot(X, Y, label='Demographic trends')\n",
    "    plt.plot(X_train, ypred * (maximum - minimum) + minimum, label='Linear regression')\n",
    "    plt.xlabel('Year')\n",
    "    plt.ylabel('Population')\n",
    "    plt.title(f'{country} Population Prediction')\n",
    "    plt.legend()\n",
    "    plt.show()\n"
   ]
  },
  {
   "cell_type": "code",
   "execution_count": 16,
   "id": "1d75977c-fbfa-41d7-9830-b50c6557914d",
   "metadata": {},
   "outputs": [
    {
     "name": "stdout",
     "output_type": "stream",
     "text": [
      "Collecting torch\n",
      "  Using cached torch-2.3.1-cp312-cp312-win_amd64.whl.metadata (26 kB)\n",
      "Collecting torchvision\n",
      "  Using cached torchvision-0.18.1-cp312-cp312-win_amd64.whl.metadata (6.6 kB)\n",
      "Collecting torchaudio\n",
      "  Using cached torchaudio-2.3.1-cp312-cp312-win_amd64.whl.metadata (6.4 kB)\n",
      "Requirement already satisfied: filelock in c:\\users\\documents\\anaconda3\\lib\\site-packages (from torch) (3.13.1)\n",
      "Requirement already satisfied: typing-extensions>=4.8.0 in c:\\users\\documents\\anaconda3\\lib\\site-packages (from torch) (4.11.0)\n",
      "Requirement already satisfied: sympy in c:\\users\\documents\\anaconda3\\lib\\site-packages (from torch) (1.12)\n",
      "Requirement already satisfied: networkx in c:\\users\\documents\\anaconda3\\lib\\site-packages (from torch) (3.2.1)\n",
      "Requirement already satisfied: jinja2 in c:\\users\\documents\\anaconda3\\lib\\site-packages (from torch) (3.1.4)\n",
      "Requirement already satisfied: fsspec in c:\\users\\documents\\anaconda3\\lib\\site-packages (from torch) (2024.3.1)\n",
      "Collecting mkl<=2021.4.0,>=2021.1.1 (from torch)\n",
      "  Using cached mkl-2021.4.0-py2.py3-none-win_amd64.whl.metadata (1.4 kB)\n",
      "Requirement already satisfied: numpy in c:\\users\\documents\\anaconda3\\lib\\site-packages (from torchvision) (1.26.4)\n",
      "Requirement already satisfied: pillow!=8.3.*,>=5.3.0 in c:\\users\\documents\\anaconda3\\lib\\site-packages (from torchvision) (10.3.0)\n",
      "Requirement already satisfied: intel-openmp==2021.* in c:\\users\\documents\\anaconda3\\lib\\site-packages (from mkl<=2021.4.0,>=2021.1.1->torch) (2021.4.0)\n",
      "Requirement already satisfied: tbb==2021.* in c:\\users\\documents\\anaconda3\\lib\\site-packages (from mkl<=2021.4.0,>=2021.1.1->torch) (2021.13.0)\n",
      "Requirement already satisfied: MarkupSafe>=2.0 in c:\\users\\documents\\anaconda3\\lib\\site-packages (from jinja2->torch) (2.1.3)\n",
      "Requirement already satisfied: mpmath>=0.19 in c:\\users\\documents\\anaconda3\\lib\\site-packages (from sympy->torch) (1.3.0)\n",
      "Using cached torch-2.3.1-cp312-cp312-win_amd64.whl (159.7 MB)\n",
      "Using cached torchvision-0.18.1-cp312-cp312-win_amd64.whl (1.2 MB)\n",
      "Using cached torchaudio-2.3.1-cp312-cp312-win_amd64.whl (2.4 MB)\n",
      "Using cached mkl-2021.4.0-py2.py3-none-win_amd64.whl (228.5 MB)\n",
      "Installing collected packages: mkl, torch, torchvision, torchaudio\n",
      "Successfully installed mkl-2021.4.0 torch-2.3.1 torchaudio-2.3.1 torchvision-0.18.1\n"
     ]
    }
   ],
   "source": [
    "!pip install torch torchvision torchaudio\n"
   ]
  },
  {
   "cell_type": "code",
   "execution_count": null,
   "id": "fcc8f748-330b-4a8c-9921-d6158f1da40f",
   "metadata": {},
   "outputs": [],
   "source": [
    "import torch.nn as nn\n",
    "import plotly.express as px"
   ]
  },
  {
   "cell_type": "code",
   "execution_count": 24,
   "id": "cb9a6ad4-60d9-4bd2-ad14-99baae4402af",
   "metadata": {},
   "outputs": [],
   "source": [
    "import torch\n",
    "import torch.nn as nn\n",
    "import plotly.express as px\n",
    "import os  # Add this import statement to use os functions\n"
   ]
  },
  {
   "cell_type": "code",
   "execution_count": 46,
   "id": "ea2e76ca-8a0f-40ea-82dd-c175c24652f9",
   "metadata": {},
   "outputs": [],
   "source": [
    "# Define the CNN model\n",
    "class CNN(nn.Module):\n",
    "    def __init__(self, input_size):\n",
    "        super(CNN, self).__init__()\n",
    "        self.input_size = input_size\n",
    "        self.convs = nn.Sequential(\n",
    "            nn.Conv1d(in_channels=1, out_channels=10, kernel_size=3, padding=1),\n",
    "            nn.ReLU(),\n",
    "            nn.MaxPool1d(kernel_size=2),\n",
    "            nn.Conv1d(in_channels=10, out_channels=10, kernel_size=3, padding=1),\n",
    "            nn.ReLU(),\n",
    "            nn.MaxPool1d(kernel_size=2)\n",
    "        )\n",
    "        self.fc = nn.Linear(in_features=int(input_size/2/2*10), out_features=1)\n",
    "    \n",
    "    def forward(self, x):\n",
    "        x = self.convs(x)\n",
    "        x = x.view(x.size()[0], -1)\n",
    "        x = self.fc(x)\n",
    "        return x\n"
   ]
  },
  {
   "cell_type": "code",
   "execution_count": 47,
   "id": "dd46da37-cc39-4f54-a61c-0dbe117969fd",
   "metadata": {},
   "outputs": [],
   "source": [
    "\n",
    "# Initialize the model\n",
    "model_cnn = CNN(input_size=16)"
   ]
  },
  {
   "cell_type": "code",
   "execution_count": 49,
   "id": "ee1448fa-e826-49f8-b8b4-6293320966b9",
   "metadata": {},
   "outputs": [],
   "source": [
    "\n",
    "# Define a simple optimizer and loss function for demonstration purposes\n",
    "optimizer = torch.optim.Adam(model_cnn.parameters(), lr=0.001)\n",
    "criterion = nn.MSELoss()"
   ]
  },
  {
   "cell_type": "code",
   "execution_count": 50,
   "id": "8bea6042-0a27-4826-b6e7-e40d30dab85a",
   "metadata": {},
   "outputs": [
    {
     "name": "stdout",
     "output_type": "stream",
     "text": [
      "Epoch 1, Loss: 0.6353210210800171\n",
      "Epoch 2, Loss: 0.6172078847885132\n",
      "Epoch 3, Loss: 0.599695086479187\n",
      "Epoch 4, Loss: 0.5827832818031311\n",
      "Epoch 5, Loss: 0.5665117502212524\n",
      "Epoch 6, Loss: 0.5507821440696716\n",
      "Epoch 7, Loss: 0.5356714725494385\n",
      "Epoch 8, Loss: 0.5211126804351807\n",
      "Epoch 9, Loss: 0.5070090293884277\n",
      "Epoch 10, Loss: 0.4934033155441284\n"
     ]
    }
   ],
   "source": [
    "\n",
    "# Dummy training loop (replace with actual training data and logic)\n",
    "X_train = np.random.rand(100, 1, 16).astype(np.float32)  # Replace with actual training data\n",
    "Y_train = np.random.rand(100).astype(np.float32)  # Replace with actual target data\n",
    "\n",
    "for epoch in range(10):  # Replace with the actual number of epochs\n",
    "    model_cnn.train()\n",
    "    optimizer.zero_grad()\n",
    "    outputs = model_cnn(torch.from_numpy(X_train))\n",
    "    loss = criterion(outputs.squeeze(), torch.from_numpy(Y_train))\n",
    "    loss.backward()\n",
    "    optimizer.step()\n",
    "    print(f'Epoch {epoch+1}, Loss: {loss.item()}')\n"
   ]
  },
  {
   "cell_type": "code",
   "execution_count": 51,
   "id": "d07c954f-fe5e-4c83-a4a4-7e2a03773091",
   "metadata": {},
   "outputs": [],
   "source": [
    "\n",
    "\n",
    "# Prepare the model directory\n",
    "model_dir = './data/models'\n",
    "if not os.path.exists(model_dir):\n",
    "    os.makedirs(model_dir)"
   ]
  },
  {
   "cell_type": "code",
   "execution_count": 52,
   "id": "6385187a-c98b-413c-969b-ec96ccc6a6d7",
   "metadata": {},
   "outputs": [
    {
     "name": "stdout",
     "output_type": "stream",
     "text": [
      "Model saved at ./data/models\\CN_CNN16.pkl\n"
     ]
    }
   ],
   "source": [
    "\n",
    "# Save the model\n",
    "model_path = os.path.join(model_dir, 'CN_CNN16.pkl')\n",
    "torch.save(model_cnn.state_dict(), model_path)\n",
    "print(f\"Model saved at {model_path}\")\n"
   ]
  },
  {
   "cell_type": "code",
   "execution_count": 53,
   "id": "e19d7162-7ad3-4fc4-95b9-4d21425d297c",
   "metadata": {},
   "outputs": [],
   "source": [
    "# Load the pre-trained model\n",
    "model_cnn = CNN(input_size=16)"
   ]
  },
  {
   "cell_type": "code",
   "execution_count": 54,
   "id": "de3f0b53-15fe-4018-98d4-4df564822f3f",
   "metadata": {},
   "outputs": [],
   "source": [
    "\n",
    "# Load the model weights\n",
    "model_path = os.path.join(model_dir, 'CN_CNN16.pkl')\n",
    "\n",
    "try:\n",
    "    model_cnn.load_state_dict(torch.load(model_path))\n",
    "    model_cnn.eval()\n",
    "except FileNotFoundError:\n",
    "    print(f\"Model file not found at {model_path}. Please check the file path or create a new model.\")"
   ]
  },
  {
   "cell_type": "code",
   "execution_count": 55,
   "id": "7c6ba4b3-74f4-46d1-83f5-244d97d99831",
   "metadata": {},
   "outputs": [],
   "source": [
    "\n",
    "# List of Western Balkan countries (excluding Croatia)\n",
    "countries = ['Kosovo', 'Montenegro', 'North Macedonia', 'Albania', 'Bosnia and Herzegovina', 'Serbia']"
   ]
  },
  {
   "cell_type": "code",
   "execution_count": 56,
   "id": "3ddcd141-6d96-458f-8a26-adb8336110de",
   "metadata": {},
   "outputs": [],
   "source": []
  },
  {
   "cell_type": "code",
   "execution_count": 58,
   "id": "104786e5-5210-4d9f-bb35-4256e97b4318",
   "metadata": {},
   "outputs": [],
   "source": [
    "# Prepare a DataFrame to store the results\n",
    "all_predictions = []\n",
    "\n",
    "for country in countries:\n",
    "    # Prepare data for CNN\n",
    "    length = 16\n",
    "    X_cnn = np.zeros((22, 1, length))  # 22 because we need historical data + 21 future years\n",
    "    Y_cnn = np.zeros(21)  # 21 future years\n",
    "\n",
    "    # Use the target country for the CNN\n",
    "    cn_data = balkan_data_clean[['Year', country]].dropna()\n",
    "    years_cnn = cn_data['Year'].values\n",
    "    population_cnn = cn_data[country].values\n",
    "\n",
    "    # Normalize the historical data\n",
    "    X_cnn[0, 0] = (population_cnn[-length:] - population_cnn.min()) / (population_cnn.max() - population_cnn.min())\n",
    "\n",
    "    # Predict future populations\n",
    "    for i in range(21):  # Adjusted loop to match length of Y_cnn and future_years_cnn\n",
    "        next_pred = (model_cnn(torch.from_numpy(X_cnn[i].reshape(1, 1, length)).to(torch.float32))).detach().numpy().flatten()\n",
    "        X_cnn[i + 1, :, :length - 1] = X_cnn[i, :, -(length - 1):]\n",
    "        X_cnn[i + 1, :, -1] = next_pred\n",
    "        Y_cnn[i] = next_pred[0]  # Extract the scalar value\n",
    "\n",
    "    # Generate future years and future population values\n",
    "    future_years_cnn = np.arange(2030, 2051)\n",
    "    future_population_values = Y_cnn * (population_cnn.max() - population_cnn.min()) + population_cnn.min()\n",
    "    future_population_cnn = np.concatenate((population_cnn, future_population_values))\n",
    "\n",
    "    # Adjust lengths of arrays for DataFrame creation\n",
    "    years_combined = np.concatenate((years_cnn, future_years_cnn))\n",
    "\n",
    "    # Make sure `years_combined` and `future_population_cnn` are the same length\n",
    "    if len(years_combined) != len(future_population_cnn):\n",
    "        raise ValueError(f\"Mismatch in lengths for {country}: years_combined has length {len(years_combined)}, but future_population_cnn has length {len(future_population_cnn)}\")\n",
    "\n",
    "    # Create the DataFrame for the current country\n",
    "    pred_cnn_data = pd.DataFrame({'Year': years_combined, 'Country': country, 'Total Population': future_population_cnn})\n",
    "\n",
    "    # Append the results to the all_predictions list\n",
    "    all_predictions.append(pred_cnn_data)"
   ]
  },
  {
   "cell_type": "code",
   "execution_count": 59,
   "id": "c1ce1e4b-3b56-4ca9-ac88-62be5ba77490",
   "metadata": {},
   "outputs": [],
   "source": [
    "\n",
    "# Combine predictions for all countries into one DataFrame\n",
    "all_predictions_df = pd.concat(all_predictions, ignore_index=True)"
   ]
  },
  {
   "cell_type": "code",
   "execution_count": 60,
   "id": "8fc9b866-96aa-4e7d-b160-c2008d843787",
   "metadata": {},
   "outputs": [
    {
     "data": {
      "application/vnd.plotly.v1+json": {
       "config": {
        "plotlyServerURL": "https://plot.ly"
       },
       "data": [
        {
         "hovertemplate": "Country=Kosovo<br>Year=%{x}<br>Total Population=%{y}<extra></extra>",
         "legendgroup": "Kosovo",
         "line": {
          "color": "#636efa",
          "dash": "solid"
         },
         "marker": {
          "symbol": "circle"
         },
         "mode": "lines",
         "name": "Kosovo",
         "orientation": "v",
         "showlegend": true,
         "type": "scatter",
         "x": [
          1960,
          1961,
          1962,
          1963,
          1964,
          1965,
          1966,
          1967,
          1968,
          1969,
          1970,
          1971,
          1972,
          1973,
          1974,
          1975,
          1976,
          1977,
          1978,
          1979,
          1980,
          1981,
          1982,
          1983,
          1984,
          1985,
          1986,
          1987,
          1988,
          1989,
          1990,
          1991,
          1992,
          1993,
          1994,
          1995,
          1996,
          1997,
          1998,
          1999,
          2000,
          2001,
          2002,
          2003,
          2004,
          2005,
          2006,
          2007,
          2008,
          2009,
          2010,
          2011,
          2012,
          2013,
          2014,
          2015,
          2016,
          2017,
          2018,
          2019,
          2020,
          2021,
          2030,
          2031,
          2032,
          2033,
          2034,
          2035,
          2036,
          2037,
          2038,
          2039,
          2040,
          2041,
          2042,
          2043,
          2044,
          2045,
          2046,
          2047,
          2048,
          2049,
          2050
         ],
         "xaxis": "x",
         "y": [
          947000,
          966000,
          994000,
          1022000,
          1050000,
          1078000,
          1106000,
          1135000,
          1163000,
          1191000,
          1219000,
          1247000,
          1278000,
          1308000,
          1339000,
          1369000,
          1400000,
          1430000,
          1460000,
          1491000,
          1521000,
          1552000,
          1582000,
          1614000,
          1647000,
          1682000,
          1717000,
          1753000,
          1791000,
          1827000,
          1862000,
          1898000,
          1932000,
          1965000,
          1997000,
          2029000,
          2059000,
          2086000,
          1966000,
          1762000,
          1700000,
          1701154,
          1702310,
          1703466,
          1704622,
          1705780,
          1719536,
          1733404,
          1747383,
          1761474,
          1775680,
          1791000,
          1807106,
          1818117,
          1812771,
          1788196,
          1777557,
          1791003,
          1797085,
          1788878,
          1790133,
          1786038,
          777167.6087528467,
          776346.9751477242,
          793468.5683697462,
          779011.2721025944,
          792199.9985873699,
          773130.5822581053,
          789024.6789604425,
          797460.49913764,
          779497.294396162,
          798688.963085413,
          805267.8474783897,
          845233.0146431923,
          845852.2025644779,
          856854.5755147934,
          837302.9217422009,
          833269.3236768246,
          812982.254832983,
          811798.9375293255,
          811407.9862609506,
          810793.9579561353,
          810170.4675257206
         ],
         "yaxis": "y"
        },
        {
         "hovertemplate": "Country=Montenegro<br>Year=%{x}<br>Total Population=%{y}<extra></extra>",
         "legendgroup": "Montenegro",
         "line": {
          "color": "#EF553B",
          "dash": "solid"
         },
         "marker": {
          "symbol": "circle"
         },
         "mode": "lines",
         "name": "Montenegro",
         "orientation": "v",
         "showlegend": true,
         "type": "scatter",
         "x": [
          1960,
          1961,
          1962,
          1963,
          1964,
          1965,
          1966,
          1967,
          1968,
          1969,
          1970,
          1971,
          1972,
          1973,
          1974,
          1975,
          1976,
          1977,
          1978,
          1979,
          1980,
          1981,
          1982,
          1983,
          1984,
          1985,
          1986,
          1987,
          1988,
          1989,
          1990,
          1991,
          1992,
          1993,
          1994,
          1995,
          1996,
          1997,
          1998,
          1999,
          2000,
          2001,
          2002,
          2003,
          2004,
          2005,
          2006,
          2007,
          2008,
          2009,
          2010,
          2011,
          2012,
          2013,
          2014,
          2015,
          2016,
          2017,
          2018,
          2019,
          2020,
          2021,
          2030,
          2031,
          2032,
          2033,
          2034,
          2035,
          2036,
          2037,
          2038,
          2039,
          2040,
          2041,
          2042,
          2043,
          2044,
          2045,
          2046,
          2047,
          2048,
          2049,
          2050
         ],
         "xaxis": "x",
         "y": [
          480579,
          491140,
          502558,
          513409,
          521753,
          526327,
          526419,
          522796,
          517481,
          513340,
          512407,
          515449,
          521785,
          530220,
          538902,
          546487,
          552562,
          557576,
          562065,
          566888,
          572608,
          579445,
          587001,
          594506,
          600884,
          605398,
          607711,
          608144,
          607413,
          606571,
          606372,
          607105,
          608516,
          610170,
          611389,
          611712,
          611003,
          609520,
          607662,
          606001,
          604950,
          607389,
          609828,
          612267,
          613353,
          614261,
          615025,
          615875,
          616969,
          618294,
          619428,
          620079,
          620601,
          621207,
          621810,
          622159,
          622303,
          622373,
          622227,
          622028,
          621306,
          619211,
          459132.551179111,
          459062.0523161888,
          460432.0409191251,
          458270.02719292045,
          459920.0103357434,
          457792.24030286074,
          457763.04220339656,
          460834.5474643111,
          457741.1040120125,
          462413.34927904606,
          463864.5301077664,
          471391.9412910342,
          470751.96539221704,
          474240.77486020327,
          469558.3845266253,
          467527.69463536143,
          464038.01782387495,
          463772.4459069669,
          463709.61896669865,
          463530.88915747404,
          463455.02459706366
         ],
         "yaxis": "y"
        },
        {
         "hovertemplate": "Country=North Macedonia<br>Year=%{x}<br>Total Population=%{y}<extra></extra>",
         "legendgroup": "North Macedonia",
         "line": {
          "color": "#00cc96",
          "dash": "solid"
         },
         "marker": {
          "symbol": "circle"
         },
         "mode": "lines",
         "name": "North Macedonia",
         "orientation": "v",
         "showlegend": true,
         "type": "scatter",
         "x": [
          1960,
          1961,
          1962,
          1963,
          1964,
          1965,
          1966,
          1967,
          1968,
          1969,
          1970,
          1971,
          1972,
          1973,
          1974,
          1975,
          1976,
          1977,
          1978,
          1979,
          1980,
          1981,
          1982,
          1983,
          1984,
          1985,
          1986,
          1987,
          1988,
          1989,
          1990,
          1991,
          1992,
          1993,
          1994,
          1995,
          1996,
          1997,
          1998,
          1999,
          2000,
          2001,
          2002,
          2003,
          2004,
          2005,
          2006,
          2007,
          2008,
          2009,
          2010,
          2011,
          2012,
          2013,
          2014,
          2015,
          2016,
          2017,
          2018,
          2019,
          2020,
          2021,
          2030,
          2031,
          2032,
          2033,
          2034,
          2035,
          2036,
          2037,
          2038,
          2039,
          2040,
          2041,
          2042,
          2043,
          2044,
          2045,
          2046,
          2047,
          2048,
          2049,
          2050
         ],
         "xaxis": "x",
         "y": [
          1462368,
          1481112,
          1497338,
          1511854,
          1529507,
          1547982,
          1567707,
          1588649,
          1610537,
          1633502,
          1656783,
          1679012,
          1701498,
          1725228,
          1749329,
          1774013,
          1799332,
          1825299,
          1851978,
          1879354,
          1907023,
          1935200,
          1958275,
          1974441,
          1988682,
          2001504,
          2012926,
          2023097,
          2031932,
          2039426,
          2044174,
          2036686,
          2018023,
          1996893,
          1982458,
          1983964,
          1994226,
          1996869,
          2007523,
          2017142,
          2026350,
          2034882,
          2020157,
          2026773,
          2032544,
          2036855,
          2040228,
          2043559,
          2046898,
          2050671,
          2055004,
          2058539,
          2061044,
          2064032,
          2067471,
          2070226,
          2072490,
          2074502,
          2076217,
          2076694,
          2072531,
          2065092,
          1369464.9574434757,
          1369113.565445006,
          1374705.0336359441,
          1365241.8821589947,
          1372464.806661278,
          1363153.3947187066,
          1363037.6310753822,
          1376403.1506187022,
          1363042.7391026616,
          1383393.8887340426,
          1389945.9086390287,
          1422732.0426255763,
          1419914.7321496457,
          1435128.3139926344,
          1414737.47645396,
          1405901.5504485667,
          1390730.7414684147,
          1389564.6099647135,
          1389287.984655857,
          1388508.255276665,
          1388172.4345226437
         ],
         "yaxis": "y"
        },
        {
         "hovertemplate": "Country=Albania<br>Year=%{x}<br>Total Population=%{y}<extra></extra>",
         "legendgroup": "Albania",
         "line": {
          "color": "#ab63fa",
          "dash": "solid"
         },
         "marker": {
          "symbol": "circle"
         },
         "mode": "lines",
         "name": "Albania",
         "orientation": "v",
         "showlegend": true,
         "type": "scatter",
         "x": [
          1960,
          1961,
          1962,
          1963,
          1964,
          1965,
          1966,
          1967,
          1968,
          1969,
          1970,
          1971,
          1972,
          1973,
          1974,
          1975,
          1976,
          1977,
          1978,
          1979,
          1980,
          1981,
          1982,
          1983,
          1984,
          1985,
          1986,
          1987,
          1988,
          1989,
          1990,
          1991,
          1992,
          1993,
          1994,
          1995,
          1996,
          1997,
          1998,
          1999,
          2000,
          2001,
          2002,
          2003,
          2004,
          2005,
          2006,
          2007,
          2008,
          2009,
          2010,
          2011,
          2012,
          2013,
          2014,
          2015,
          2016,
          2017,
          2018,
          2019,
          2020,
          2021,
          2030,
          2031,
          2032,
          2033,
          2034,
          2035,
          2036,
          2037,
          2038,
          2039,
          2040,
          2041,
          2042,
          2043,
          2044,
          2045,
          2046,
          2047,
          2048,
          2049,
          2050
         ],
         "xaxis": "x",
         "y": [
          1608800,
          1659800,
          1711319,
          1762621,
          1814135,
          1864791,
          1914573,
          1965598,
          2022272,
          2081695,
          2135479,
          2187853,
          2243126,
          2296752,
          2350124,
          2404831,
          2458526,
          2513546,
          2566266,
          2617832,
          2671997,
          2726056,
          2784278,
          2843960,
          2904429,
          2964762,
          3022635,
          3083605,
          3142336,
          3227943,
          3286542,
          3266790,
          3247039,
          3227287,
          3207536,
          3187784,
          3168033,
          3148281,
          3128530,
          3108778,
          3089027,
          3060173,
          3051010,
          3039616,
          3026939,
          3011487,
          2992547,
          2970017,
          2947314,
          2927519,
          2913021,
          2905195,
          2900401,
          2895092,
          2889104,
          2880703,
          2876101,
          2873457,
          2866376,
          2854191,
          2837849,
          2811666,
          1366193.4250982106,
          1364360.3028089106,
          1385885.6395397782,
          1364267.576681435,
          1382195.1446663141,
          1353986.9766775668,
          1378870.4292404354,
          1389718.5111444294,
          1366409.1027206779,
          1393291.2795864344,
          1400550.2928502262,
          1457192.3065717816,
          1458262.1695804596,
          1473523.1801421344,
          1445412.3383367956,
          1439929.0341642052,
          1411305.173620969,
          1409643.5284166932,
          1409058.9963092506,
          1408172.9105351567,
          1407310.4750486314
         ],
         "yaxis": "y"
        },
        {
         "hovertemplate": "Country=Bosnia and Herzegovina<br>Year=%{x}<br>Total Population=%{y}<extra></extra>",
         "legendgroup": "Bosnia and Herzegovina",
         "line": {
          "color": "#FFA15A",
          "dash": "solid"
         },
         "marker": {
          "symbol": "circle"
         },
         "mode": "lines",
         "name": "Bosnia and Herzegovina",
         "orientation": "v",
         "showlegend": true,
         "type": "scatter",
         "x": [
          1960,
          1961,
          1962,
          1963,
          1964,
          1965,
          1966,
          1967,
          1968,
          1969,
          1970,
          1971,
          1972,
          1973,
          1974,
          1975,
          1976,
          1977,
          1978,
          1979,
          1980,
          1981,
          1982,
          1983,
          1984,
          1985,
          1986,
          1987,
          1988,
          1989,
          1990,
          1991,
          1992,
          1993,
          1994,
          1995,
          1996,
          1997,
          1998,
          1999,
          2000,
          2001,
          2002,
          2003,
          2004,
          2005,
          2006,
          2007,
          2008,
          2009,
          2010,
          2011,
          2012,
          2013,
          2014,
          2015,
          2016,
          2017,
          2018,
          2019,
          2020,
          2021,
          2030,
          2031,
          2032,
          2033,
          2034,
          2035,
          2036,
          2037,
          2038,
          2039,
          2040,
          2041,
          2042,
          2043,
          2044,
          2045,
          2046,
          2047,
          2048,
          2049,
          2050
         ],
         "xaxis": "x",
         "y": [
          3262539,
          3325333,
          3387512,
          3448532,
          3507959,
          3565517,
          3620849,
          3673367,
          3723067,
          3770376,
          3815561,
          3859242,
          3901895,
          3943152,
          3983063,
          4022090,
          4060039,
          4096516,
          4131521,
          4165511,
          4199820,
          4235970,
          4274013,
          4312521,
          4349597,
          4383306,
          4413374,
          4440300,
          4463320,
          4481230,
          4494310,
          4502386,
          4275730,
          3942981,
          3762330,
          3750527,
          3907751,
          4047748,
          4115059,
          4153014,
          4179350,
          4194932,
          4198410,
          4183757,
          4142860,
          4094297,
          4058086,
          4007876,
          3943392,
          3877750,
          3811088,
          3743142,
          3674374,
          3617559,
          3571068,
          3524324,
          3480986,
          3440027,
          3400129,
          3360711,
          3318407,
          3270943,
          3106597.638381779,
          3103700.5485417545,
          3106278.8679710925,
          3103211.3078297228,
          3104874.2385064065,
          3106606.0076292604,
          3110324.9095365256,
          3111562.237189807,
          3111003.834716305,
          3112443.142056316,
          3109484.2528060824,
          3113329.044453606,
          3116499.0401196107,
          3115462.3527039587,
          3115994.899191037,
          3117134.188407764,
          3115332.91573298,
          3115334.13509354,
          3115210.508560382,
          3115100.6090711057,
          3115086.6695628837
         ],
         "yaxis": "y"
        },
        {
         "hovertemplate": "Country=Serbia<br>Year=%{x}<br>Total Population=%{y}<extra></extra>",
         "legendgroup": "Serbia",
         "line": {
          "color": "#19d3f3",
          "dash": "solid"
         },
         "marker": {
          "symbol": "circle"
         },
         "mode": "lines",
         "name": "Serbia",
         "orientation": "v",
         "showlegend": true,
         "type": "scatter",
         "x": [
          1960,
          1961,
          1962,
          1963,
          1964,
          1965,
          1966,
          1967,
          1968,
          1969,
          1970,
          1971,
          1972,
          1973,
          1974,
          1975,
          1976,
          1977,
          1978,
          1979,
          1980,
          1981,
          1982,
          1983,
          1984,
          1985,
          1986,
          1987,
          1988,
          1989,
          1990,
          1991,
          1992,
          1993,
          1994,
          1995,
          1996,
          1997,
          1998,
          1999,
          2000,
          2001,
          2002,
          2003,
          2004,
          2005,
          2006,
          2007,
          2008,
          2009,
          2010,
          2011,
          2012,
          2013,
          2014,
          2015,
          2016,
          2017,
          2018,
          2019,
          2020,
          2021,
          2030,
          2031,
          2032,
          2033,
          2034,
          2035,
          2036,
          2037,
          2038,
          2039,
          2040,
          2041,
          2042,
          2043,
          2044,
          2045,
          2046,
          2047,
          2048,
          2049,
          2050
         ],
         "xaxis": "x",
         "y": [
          6608000,
          6655000,
          6696000,
          6732000,
          6765000,
          6794000,
          6841000,
          6880000,
          6915000,
          6945000,
          6972000,
          7013000,
          7053000,
          7091000,
          7128000,
          7163000,
          7214000,
          7258000,
          7297000,
          7332000,
          7362000,
          7405000,
          7440000,
          7468000,
          7489000,
          7504000,
          7536000,
          7558000,
          7572000,
          7581000,
          7586000,
          7595636,
          7646424,
          7699307,
          7734639,
          7625357,
          7617794,
          7596501,
          7567745,
          7540401,
          7516346,
          7503433,
          7496522,
          7480591,
          7463157,
          7440769,
          7411569,
          7381579,
          7350222,
          7320807,
          7291436,
          7234099,
          7199077,
          7164132,
          7130576,
          7095383,
          7058322,
          7020858,
          6982604,
          6945235,
          6899126,
          6834326,
          6462218.436754316,
          6457093.393252403,
          6466360.025781125,
          6462253.692035943,
          6464603.741956294,
          6459212.168525279,
          6466778.858526856,
          6469148.366005018,
          6462349.703919575,
          6466986.663229704,
          6461109.137712032,
          6467428.185267396,
          6478065.862122141,
          6479960.287892148,
          6479696.4272915125,
          6478509.9695471525,
          6474440.7797594,
          6474501.846943647,
          6474215.087198183,
          6474055.380772412,
          6473966.3024275005
         ],
         "yaxis": "y"
        }
       ],
       "layout": {
        "autosize": true,
        "legend": {
         "title": {
          "text": "Country"
         },
         "tracegroupgap": 0
        },
        "template": {
         "data": {
          "bar": [
           {
            "error_x": {
             "color": "#2a3f5f"
            },
            "error_y": {
             "color": "#2a3f5f"
            },
            "marker": {
             "line": {
              "color": "#E5ECF6",
              "width": 0.5
             },
             "pattern": {
              "fillmode": "overlay",
              "size": 10,
              "solidity": 0.2
             }
            },
            "type": "bar"
           }
          ],
          "barpolar": [
           {
            "marker": {
             "line": {
              "color": "#E5ECF6",
              "width": 0.5
             },
             "pattern": {
              "fillmode": "overlay",
              "size": 10,
              "solidity": 0.2
             }
            },
            "type": "barpolar"
           }
          ],
          "carpet": [
           {
            "aaxis": {
             "endlinecolor": "#2a3f5f",
             "gridcolor": "white",
             "linecolor": "white",
             "minorgridcolor": "white",
             "startlinecolor": "#2a3f5f"
            },
            "baxis": {
             "endlinecolor": "#2a3f5f",
             "gridcolor": "white",
             "linecolor": "white",
             "minorgridcolor": "white",
             "startlinecolor": "#2a3f5f"
            },
            "type": "carpet"
           }
          ],
          "choropleth": [
           {
            "colorbar": {
             "outlinewidth": 0,
             "ticks": ""
            },
            "type": "choropleth"
           }
          ],
          "contour": [
           {
            "colorbar": {
             "outlinewidth": 0,
             "ticks": ""
            },
            "colorscale": [
             [
              0,
              "#0d0887"
             ],
             [
              0.1111111111111111,
              "#46039f"
             ],
             [
              0.2222222222222222,
              "#7201a8"
             ],
             [
              0.3333333333333333,
              "#9c179e"
             ],
             [
              0.4444444444444444,
              "#bd3786"
             ],
             [
              0.5555555555555556,
              "#d8576b"
             ],
             [
              0.6666666666666666,
              "#ed7953"
             ],
             [
              0.7777777777777778,
              "#fb9f3a"
             ],
             [
              0.8888888888888888,
              "#fdca26"
             ],
             [
              1,
              "#f0f921"
             ]
            ],
            "type": "contour"
           }
          ],
          "contourcarpet": [
           {
            "colorbar": {
             "outlinewidth": 0,
             "ticks": ""
            },
            "type": "contourcarpet"
           }
          ],
          "heatmap": [
           {
            "colorbar": {
             "outlinewidth": 0,
             "ticks": ""
            },
            "colorscale": [
             [
              0,
              "#0d0887"
             ],
             [
              0.1111111111111111,
              "#46039f"
             ],
             [
              0.2222222222222222,
              "#7201a8"
             ],
             [
              0.3333333333333333,
              "#9c179e"
             ],
             [
              0.4444444444444444,
              "#bd3786"
             ],
             [
              0.5555555555555556,
              "#d8576b"
             ],
             [
              0.6666666666666666,
              "#ed7953"
             ],
             [
              0.7777777777777778,
              "#fb9f3a"
             ],
             [
              0.8888888888888888,
              "#fdca26"
             ],
             [
              1,
              "#f0f921"
             ]
            ],
            "type": "heatmap"
           }
          ],
          "heatmapgl": [
           {
            "colorbar": {
             "outlinewidth": 0,
             "ticks": ""
            },
            "colorscale": [
             [
              0,
              "#0d0887"
             ],
             [
              0.1111111111111111,
              "#46039f"
             ],
             [
              0.2222222222222222,
              "#7201a8"
             ],
             [
              0.3333333333333333,
              "#9c179e"
             ],
             [
              0.4444444444444444,
              "#bd3786"
             ],
             [
              0.5555555555555556,
              "#d8576b"
             ],
             [
              0.6666666666666666,
              "#ed7953"
             ],
             [
              0.7777777777777778,
              "#fb9f3a"
             ],
             [
              0.8888888888888888,
              "#fdca26"
             ],
             [
              1,
              "#f0f921"
             ]
            ],
            "type": "heatmapgl"
           }
          ],
          "histogram": [
           {
            "marker": {
             "pattern": {
              "fillmode": "overlay",
              "size": 10,
              "solidity": 0.2
             }
            },
            "type": "histogram"
           }
          ],
          "histogram2d": [
           {
            "colorbar": {
             "outlinewidth": 0,
             "ticks": ""
            },
            "colorscale": [
             [
              0,
              "#0d0887"
             ],
             [
              0.1111111111111111,
              "#46039f"
             ],
             [
              0.2222222222222222,
              "#7201a8"
             ],
             [
              0.3333333333333333,
              "#9c179e"
             ],
             [
              0.4444444444444444,
              "#bd3786"
             ],
             [
              0.5555555555555556,
              "#d8576b"
             ],
             [
              0.6666666666666666,
              "#ed7953"
             ],
             [
              0.7777777777777778,
              "#fb9f3a"
             ],
             [
              0.8888888888888888,
              "#fdca26"
             ],
             [
              1,
              "#f0f921"
             ]
            ],
            "type": "histogram2d"
           }
          ],
          "histogram2dcontour": [
           {
            "colorbar": {
             "outlinewidth": 0,
             "ticks": ""
            },
            "colorscale": [
             [
              0,
              "#0d0887"
             ],
             [
              0.1111111111111111,
              "#46039f"
             ],
             [
              0.2222222222222222,
              "#7201a8"
             ],
             [
              0.3333333333333333,
              "#9c179e"
             ],
             [
              0.4444444444444444,
              "#bd3786"
             ],
             [
              0.5555555555555556,
              "#d8576b"
             ],
             [
              0.6666666666666666,
              "#ed7953"
             ],
             [
              0.7777777777777778,
              "#fb9f3a"
             ],
             [
              0.8888888888888888,
              "#fdca26"
             ],
             [
              1,
              "#f0f921"
             ]
            ],
            "type": "histogram2dcontour"
           }
          ],
          "mesh3d": [
           {
            "colorbar": {
             "outlinewidth": 0,
             "ticks": ""
            },
            "type": "mesh3d"
           }
          ],
          "parcoords": [
           {
            "line": {
             "colorbar": {
              "outlinewidth": 0,
              "ticks": ""
             }
            },
            "type": "parcoords"
           }
          ],
          "pie": [
           {
            "automargin": true,
            "type": "pie"
           }
          ],
          "scatter": [
           {
            "fillpattern": {
             "fillmode": "overlay",
             "size": 10,
             "solidity": 0.2
            },
            "type": "scatter"
           }
          ],
          "scatter3d": [
           {
            "line": {
             "colorbar": {
              "outlinewidth": 0,
              "ticks": ""
             }
            },
            "marker": {
             "colorbar": {
              "outlinewidth": 0,
              "ticks": ""
             }
            },
            "type": "scatter3d"
           }
          ],
          "scattercarpet": [
           {
            "marker": {
             "colorbar": {
              "outlinewidth": 0,
              "ticks": ""
             }
            },
            "type": "scattercarpet"
           }
          ],
          "scattergeo": [
           {
            "marker": {
             "colorbar": {
              "outlinewidth": 0,
              "ticks": ""
             }
            },
            "type": "scattergeo"
           }
          ],
          "scattergl": [
           {
            "marker": {
             "colorbar": {
              "outlinewidth": 0,
              "ticks": ""
             }
            },
            "type": "scattergl"
           }
          ],
          "scattermapbox": [
           {
            "marker": {
             "colorbar": {
              "outlinewidth": 0,
              "ticks": ""
             }
            },
            "type": "scattermapbox"
           }
          ],
          "scatterpolar": [
           {
            "marker": {
             "colorbar": {
              "outlinewidth": 0,
              "ticks": ""
             }
            },
            "type": "scatterpolar"
           }
          ],
          "scatterpolargl": [
           {
            "marker": {
             "colorbar": {
              "outlinewidth": 0,
              "ticks": ""
             }
            },
            "type": "scatterpolargl"
           }
          ],
          "scatterternary": [
           {
            "marker": {
             "colorbar": {
              "outlinewidth": 0,
              "ticks": ""
             }
            },
            "type": "scatterternary"
           }
          ],
          "surface": [
           {
            "colorbar": {
             "outlinewidth": 0,
             "ticks": ""
            },
            "colorscale": [
             [
              0,
              "#0d0887"
             ],
             [
              0.1111111111111111,
              "#46039f"
             ],
             [
              0.2222222222222222,
              "#7201a8"
             ],
             [
              0.3333333333333333,
              "#9c179e"
             ],
             [
              0.4444444444444444,
              "#bd3786"
             ],
             [
              0.5555555555555556,
              "#d8576b"
             ],
             [
              0.6666666666666666,
              "#ed7953"
             ],
             [
              0.7777777777777778,
              "#fb9f3a"
             ],
             [
              0.8888888888888888,
              "#fdca26"
             ],
             [
              1,
              "#f0f921"
             ]
            ],
            "type": "surface"
           }
          ],
          "table": [
           {
            "cells": {
             "fill": {
              "color": "#EBF0F8"
             },
             "line": {
              "color": "white"
             }
            },
            "header": {
             "fill": {
              "color": "#C8D4E3"
             },
             "line": {
              "color": "white"
             }
            },
            "type": "table"
           }
          ]
         },
         "layout": {
          "annotationdefaults": {
           "arrowcolor": "#2a3f5f",
           "arrowhead": 0,
           "arrowwidth": 1
          },
          "autotypenumbers": "strict",
          "coloraxis": {
           "colorbar": {
            "outlinewidth": 0,
            "ticks": ""
           }
          },
          "colorscale": {
           "diverging": [
            [
             0,
             "#8e0152"
            ],
            [
             0.1,
             "#c51b7d"
            ],
            [
             0.2,
             "#de77ae"
            ],
            [
             0.3,
             "#f1b6da"
            ],
            [
             0.4,
             "#fde0ef"
            ],
            [
             0.5,
             "#f7f7f7"
            ],
            [
             0.6,
             "#e6f5d0"
            ],
            [
             0.7,
             "#b8e186"
            ],
            [
             0.8,
             "#7fbc41"
            ],
            [
             0.9,
             "#4d9221"
            ],
            [
             1,
             "#276419"
            ]
           ],
           "sequential": [
            [
             0,
             "#0d0887"
            ],
            [
             0.1111111111111111,
             "#46039f"
            ],
            [
             0.2222222222222222,
             "#7201a8"
            ],
            [
             0.3333333333333333,
             "#9c179e"
            ],
            [
             0.4444444444444444,
             "#bd3786"
            ],
            [
             0.5555555555555556,
             "#d8576b"
            ],
            [
             0.6666666666666666,
             "#ed7953"
            ],
            [
             0.7777777777777778,
             "#fb9f3a"
            ],
            [
             0.8888888888888888,
             "#fdca26"
            ],
            [
             1,
             "#f0f921"
            ]
           ],
           "sequentialminus": [
            [
             0,
             "#0d0887"
            ],
            [
             0.1111111111111111,
             "#46039f"
            ],
            [
             0.2222222222222222,
             "#7201a8"
            ],
            [
             0.3333333333333333,
             "#9c179e"
            ],
            [
             0.4444444444444444,
             "#bd3786"
            ],
            [
             0.5555555555555556,
             "#d8576b"
            ],
            [
             0.6666666666666666,
             "#ed7953"
            ],
            [
             0.7777777777777778,
             "#fb9f3a"
            ],
            [
             0.8888888888888888,
             "#fdca26"
            ],
            [
             1,
             "#f0f921"
            ]
           ]
          },
          "colorway": [
           "#636efa",
           "#EF553B",
           "#00cc96",
           "#ab63fa",
           "#FFA15A",
           "#19d3f3",
           "#FF6692",
           "#B6E880",
           "#FF97FF",
           "#FECB52"
          ],
          "font": {
           "color": "#2a3f5f"
          },
          "geo": {
           "bgcolor": "white",
           "lakecolor": "white",
           "landcolor": "#E5ECF6",
           "showlakes": true,
           "showland": true,
           "subunitcolor": "white"
          },
          "hoverlabel": {
           "align": "left"
          },
          "hovermode": "closest",
          "mapbox": {
           "style": "light"
          },
          "paper_bgcolor": "white",
          "plot_bgcolor": "#E5ECF6",
          "polar": {
           "angularaxis": {
            "gridcolor": "white",
            "linecolor": "white",
            "ticks": ""
           },
           "bgcolor": "#E5ECF6",
           "radialaxis": {
            "gridcolor": "white",
            "linecolor": "white",
            "ticks": ""
           }
          },
          "scene": {
           "xaxis": {
            "backgroundcolor": "#E5ECF6",
            "gridcolor": "white",
            "gridwidth": 2,
            "linecolor": "white",
            "showbackground": true,
            "ticks": "",
            "zerolinecolor": "white"
           },
           "yaxis": {
            "backgroundcolor": "#E5ECF6",
            "gridcolor": "white",
            "gridwidth": 2,
            "linecolor": "white",
            "showbackground": true,
            "ticks": "",
            "zerolinecolor": "white"
           },
           "zaxis": {
            "backgroundcolor": "#E5ECF6",
            "gridcolor": "white",
            "gridwidth": 2,
            "linecolor": "white",
            "showbackground": true,
            "ticks": "",
            "zerolinecolor": "white"
           }
          },
          "shapedefaults": {
           "line": {
            "color": "#2a3f5f"
           }
          },
          "ternary": {
           "aaxis": {
            "gridcolor": "white",
            "linecolor": "white",
            "ticks": ""
           },
           "baxis": {
            "gridcolor": "white",
            "linecolor": "white",
            "ticks": ""
           },
           "bgcolor": "#E5ECF6",
           "caxis": {
            "gridcolor": "white",
            "linecolor": "white",
            "ticks": ""
           }
          },
          "title": {
           "x": 0.05
          },
          "xaxis": {
           "automargin": true,
           "gridcolor": "white",
           "linecolor": "white",
           "ticks": "",
           "title": {
            "standoff": 15
           },
           "zerolinecolor": "white",
           "zerolinewidth": 2
          },
          "yaxis": {
           "automargin": true,
           "gridcolor": "white",
           "linecolor": "white",
           "ticks": "",
           "title": {
            "standoff": 15
           },
           "zerolinecolor": "white",
           "zerolinewidth": 2
          }
         }
        },
        "title": {
         "text": "Western Balkan Countries Population Prediction (CNN)"
        },
        "xaxis": {
         "anchor": "y",
         "autorange": true,
         "domain": [
          0,
          1
         ],
         "range": [
          1960,
          2050
         ],
         "title": {
          "text": "Year"
         },
         "type": "linear"
        },
        "yaxis": {
         "anchor": "x",
         "autorange": true,
         "domain": [
          0,
          1
         ],
         "range": [
          53468.99867934652,
          8138911.105332666
         ],
         "title": {
          "text": "Total Population"
         },
         "type": "linear"
        }
       }
      },
      "image/png": "[encoded data removed]",
      "text/html": [
       "<div>                            <div id=\"304e910d-ae27-4e01-87aa-f91d7341d114\" class=\"plotly-graph-div\" style=\"height:525px; width:100%;\"></div>            <script type=\"text/javascript\">                require([\"plotly\"], function(Plotly) {                    window.PLOTLYENV=window.PLOTLYENV || {};                                    if (document.getElementById(\"304e910d-ae27-4e01-87aa-f91d7341d114\")) {                    Plotly.newPlot(                        \"304e910d-ae27-4e01-87aa-f91d7341d114\",                        [{\"hovertemplate\":\"Country=Kosovo\\u003cbr\\u003eYear=%{x}\\u003cbr\\u003eTotal Population=%{y}\\u003cextra\\u003e\\u003c\\u002fextra\\u003e\",\"legendgroup\":\"Kosovo\",\"line\":{\"color\":\"#636efa\",\"dash\":\"solid\"},\"marker\":{\"symbol\":\"circle\"},\"mode\":\"lines\",\"name\":\"Kosovo\",\"orientation\":\"v\",\"showlegend\":true,\"x\":[1960,1961,1962,1963,1964,1965,1966,1967,1968,1969,1970,1971,1972,1973,1974,1975,1976,1977,1978,1979,1980,1981,1982,1983,1984,1985,1986,1987,1988,1989,1990,1991,1992,1993,1994,1995,1996,1997,1998,1999,2000,2001,2002,2003,2004,2005,2006,2007,2008,2009,2010,2011,2012,2013,2014,2015,2016,2017,2018,2019,2020,2021,2030,2031,2032,2033,2034,2035,2036,2037,2038,2039,2040,2041,2042,2043,2044,2045,2046,2047,2048,2049,2050],\"xaxis\":\"x\",\"y\":[947000.0,966000.0,994000.0,1022000.0,1050000.0,1078000.0,1106000.0,1135000.0,1163000.0,1191000.0,1219000.0,1247000.0,1278000.0,1308000.0,1339000.0,1369000.0,1400000.0,1430000.0,1460000.0,1491000.0,1521000.0,1552000.0,1582000.0,1614000.0,1647000.0,1682000.0,1717000.0,1753000.0,1791000.0,1827000.0,1862000.0,1898000.0,1932000.0,1965000.0,1997000.0,2029000.0,2059000.0,2086000.0,1966000.0,1762000.0,1700000.0,1701154.0,1702310.0,1703466.0,1704622.0,1705780.0,1719536.0,1733404.0,1747383.0,1761474.0,1775680.0,1791000.0,1807106.0,1818117.0,1812771.0,1788196.0,1777557.0,1791003.0,1797085.0,1788878.0,1790133.0,1786038.0,777167.6087528467,776346.9751477242,793468.5683697462,779011.2721025944,792199.9985873699,773130.5822581053,789024.6789604425,797460.49913764,779497.294396162,798688.963085413,805267.8474783897,845233.0146431923,845852.2025644779,856854.5755147934,837302.9217422009,833269.3236768246,812982.254832983,811798.9375293255,811407.9862609506,810793.9579561353,810170.4675257206],\"yaxis\":\"y\",\"type\":\"scatter\"},{\"hovertemplate\":\"Country=Montenegro\\u003cbr\\u003eYear=%{x}\\u003cbr\\u003eTotal Population=%{y}\\u003cextra\\u003e\\u003c\\u002fextra\\u003e\",\"legendgroup\":\"Montenegro\",\"line\":{\"color\":\"#EF553B\",\"dash\":\"solid\"},\"marker\":{\"symbol\":\"circle\"},\"mode\":\"lines\",\"name\":\"Montenegro\",\"orientation\":\"v\",\"showlegend\":true,\"x\":[1960,1961,1962,1963,1964,1965,1966,1967,1968,1969,1970,1971,1972,1973,1974,1975,1976,1977,1978,1979,1980,1981,1982,1983,1984,1985,1986,1987,1988,1989,1990,1991,1992,1993,1994,1995,1996,1997,1998,1999,2000,2001,2002,2003,2004,2005,2006,2007,2008,2009,2010,2011,2012,2013,2014,2015,2016,2017,2018,2019,2020,2021,2030,2031,2032,2033,2034,2035,2036,2037,2038,2039,2040,2041,2042,2043,2044,2045,2046,2047,2048,2049,2050],\"xaxis\":\"x\",\"y\":[480579.0,491140.0,502558.0,513409.0,521753.0,526327.0,526419.0,522796.0,517481.0,513340.0,512407.0,515449.0,521785.0,530220.0,538902.0,546487.0,552562.0,557576.0,562065.0,566888.0,572608.0,579445.0,587001.0,594506.0,600884.0,605398.0,607711.0,608144.0,607413.0,606571.0,606372.0,607105.0,608516.0,610170.0,611389.0,611712.0,611003.0,609520.0,607662.0,606001.0,604950.0,607389.0,609828.0,612267.0,613353.0,614261.0,615025.0,615875.0,616969.0,618294.0,619428.0,620079.0,620601.0,621207.0,621810.0,622159.0,622303.0,622373.0,622227.0,622028.0,621306.0,619211.0,459132.551179111,459062.0523161888,460432.0409191251,458270.02719292045,459920.0103357434,457792.24030286074,457763.04220339656,460834.5474643111,457741.1040120125,462413.34927904606,463864.5301077664,471391.9412910342,470751.96539221704,474240.77486020327,469558.3845266253,467527.69463536143,464038.01782387495,463772.4459069669,463709.61896669865,463530.88915747404,463455.02459706366],\"yaxis\":\"y\",\"type\":\"scatter\"},{\"hovertemplate\":\"Country=North Macedonia\\u003cbr\\u003eYear=%{x}\\u003cbr\\u003eTotal Population=%{y}\\u003cextra\\u003e\\u003c\\u002fextra\\u003e\",\"legendgroup\":\"North Macedonia\",\"line\":{\"color\":\"#00cc96\",\"dash\":\"solid\"},\"marker\":{\"symbol\":\"circle\"},\"mode\":\"lines\",\"name\":\"North Macedonia\",\"orientation\":\"v\",\"showlegend\":true,\"x\":[1960,1961,1962,1963,1964,1965,1966,1967,1968,1969,1970,1971,1972,1973,1974,1975,1976,1977,1978,1979,1980,1981,1982,1983,1984,1985,1986,1987,1988,1989,1990,1991,1992,1993,1994,1995,1996,1997,1998,1999,2000,2001,2002,2003,2004,2005,2006,2007,2008,2009,2010,2011,2012,2013,2014,2015,2016,2017,2018,2019,2020,2021,2030,2031,2032,2033,2034,2035,2036,2037,2038,2039,2040,2041,2042,2043,2044,2045,2046,2047,2048,2049,2050],\"xaxis\":\"x\",\"y\":[1462368.0,1481112.0,1497338.0,1511854.0,1529507.0,1547982.0,1567707.0,1588649.0,1610537.0,1633502.0,1656783.0,1679012.0,1701498.0,1725228.0,1749329.0,1774013.0,1799332.0,1825299.0,1851978.0,1879354.0,1907023.0,1935200.0,1958275.0,1974441.0,1988682.0,2001504.0,2012926.0,2023097.0,2031932.0,2039426.0,2044174.0,2036686.0,2018023.0,1996893.0,1982458.0,1983964.0,1994226.0,1996869.0,2007523.0,2017142.0,2026350.0,2034882.0,2020157.0,2026773.0,2032544.0,2036855.0,2040228.0,2043559.0,2046898.0,2050671.0,2055004.0,2058539.0,2061044.0,2064032.0,2067471.0,2070226.0,2072490.0,2074502.0,2076217.0,2076694.0,2072531.0,2065092.0,1369464.9574434757,1369113.565445006,1374705.0336359441,1365241.8821589947,1372464.806661278,1363153.3947187066,1363037.6310753822,1376403.1506187022,1363042.7391026616,1383393.8887340426,1389945.9086390287,1422732.0426255763,1419914.7321496457,1435128.3139926344,1414737.47645396,1405901.5504485667,1390730.7414684147,1389564.6099647135,1389287.984655857,1388508.255276665,1388172.4345226437],\"yaxis\":\"y\",\"type\":\"scatter\"},{\"hovertemplate\":\"Country=Albania\\u003cbr\\u003eYear=%{x}\\u003cbr\\u003eTotal Population=%{y}\\u003cextra\\u003e\\u003c\\u002fextra\\u003e\",\"legendgroup\":\"Albania\",\"line\":{\"color\":\"#ab63fa\",\"dash\":\"solid\"},\"marker\":{\"symbol\":\"circle\"},\"mode\":\"lines\",\"name\":\"Albania\",\"orientation\":\"v\",\"showlegend\":true,\"x\":[1960,1961,1962,1963,1964,1965,1966,1967,1968,1969,1970,1971,1972,1973,1974,1975,1976,1977,1978,1979,1980,1981,1982,1983,1984,1985,1986,1987,1988,1989,1990,1991,1992,1993,1994,1995,1996,1997,1998,1999,2000,2001,2002,2003,2004,2005,2006,2007,2008,2009,2010,2011,2012,2013,2014,2015,2016,2017,2018,2019,2020,2021,2030,2031,2032,2033,2034,2035,2036,2037,2038,2039,2040,2041,2042,2043,2044,2045,2046,2047,2048,2049,2050],\"xaxis\":\"x\",\"y\":[1608800.0,1659800.0,1711319.0,1762621.0,1814135.0,1864791.0,1914573.0,1965598.0,2022272.0,2081695.0,2135479.0,2187853.0,2243126.0,2296752.0,2350124.0,2404831.0,2458526.0,2513546.0,2566266.0,2617832.0,2671997.0,2726056.0,2784278.0,2843960.0,2904429.0,2964762.0,3022635.0,3083605.0,3142336.0,3227943.0,3286542.0,3266790.0,3247039.0,3227287.0,3207536.0,3187784.0,3168033.0,3148281.0,3128530.0,3108778.0,3089027.0,3060173.0,3051010.0,3039616.0,3026939.0,3011487.0,2992547.0,2970017.0,2947314.0,2927519.0,2913021.0,2905195.0,2900401.0,2895092.0,2889104.0,2880703.0,2876101.0,2873457.0,2866376.0,2854191.0,2837849.0,2811666.0,1366193.4250982106,1364360.3028089106,1385885.6395397782,1364267.576681435,1382195.1446663141,1353986.9766775668,1378870.4292404354,1389718.5111444294,1366409.1027206779,1393291.2795864344,1400550.2928502262,1457192.3065717816,1458262.1695804596,1473523.1801421344,1445412.3383367956,1439929.0341642052,1411305.173620969,1409643.5284166932,1409058.9963092506,1408172.9105351567,1407310.4750486314],\"yaxis\":\"y\",\"type\":\"scatter\"},{\"hovertemplate\":\"Country=Bosnia and Herzegovina\\u003cbr\\u003eYear=%{x}\\u003cbr\\u003eTotal Population=%{y}\\u003cextra\\u003e\\u003c\\u002fextra\\u003e\",\"legendgroup\":\"Bosnia and Herzegovina\",\"line\":{\"color\":\"#FFA15A\",\"dash\":\"solid\"},\"marker\":{\"symbol\":\"circle\"},\"mode\":\"lines\",\"name\":\"Bosnia and Herzegovina\",\"orientation\":\"v\",\"showlegend\":true,\"x\":[1960,1961,1962,1963,1964,1965,1966,1967,1968,1969,1970,1971,1972,1973,1974,1975,1976,1977,1978,1979,1980,1981,1982,1983,1984,1985,1986,1987,1988,1989,1990,1991,1992,1993,1994,1995,1996,1997,1998,1999,2000,2001,2002,2003,2004,2005,2006,2007,2008,2009,2010,2011,2012,2013,2014,2015,2016,2017,2018,2019,2020,2021,2030,2031,2032,2033,2034,2035,2036,2037,2038,2039,2040,2041,2042,2043,2044,2045,2046,2047,2048,2049,2050],\"xaxis\":\"x\",\"y\":[3262539.0,3325333.0,3387512.0,3448532.0,3507959.0,3565517.0,3620849.0,3673367.0,3723067.0,3770376.0,3815561.0,3859242.0,3901895.0,3943152.0,3983063.0,4022090.0,4060039.0,4096516.0,4131521.0,4165511.0,4199820.0,4235970.0,4274013.0,4312521.0,4349597.0,4383306.0,4413374.0,4440300.0,4463320.0,4481230.0,4494310.0,4502386.0,4275730.0,3942981.0,3762330.0,3750527.0,3907751.0,4047748.0,4115059.0,4153014.0,4179350.0,4194932.0,4198410.0,4183757.0,4142860.0,4094297.0,4058086.0,4007876.0,3943392.0,3877750.0,3811088.0,3743142.0,3674374.0,3617559.0,3571068.0,3524324.0,3480986.0,3440027.0,3400129.0,3360711.0,3318407.0,3270943.0,3106597.638381779,3103700.5485417545,3106278.8679710925,3103211.3078297228,3104874.2385064065,3106606.0076292604,3110324.9095365256,3111562.237189807,3111003.834716305,3112443.142056316,3109484.2528060824,3113329.044453606,3116499.0401196107,3115462.3527039587,3115994.899191037,3117134.188407764,3115332.91573298,3115334.13509354,3115210.508560382,3115100.6090711057,3115086.6695628837],\"yaxis\":\"y\",\"type\":\"scatter\"},{\"hovertemplate\":\"Country=Serbia\\u003cbr\\u003eYear=%{x}\\u003cbr\\u003eTotal Population=%{y}\\u003cextra\\u003e\\u003c\\u002fextra\\u003e\",\"legendgroup\":\"Serbia\",\"line\":{\"color\":\"#19d3f3\",\"dash\":\"solid\"},\"marker\":{\"symbol\":\"circle\"},\"mode\":\"lines\",\"name\":\"Serbia\",\"orientation\":\"v\",\"showlegend\":true,\"x\":[1960,1961,1962,1963,1964,1965,1966,1967,1968,1969,1970,1971,1972,1973,1974,1975,1976,1977,1978,1979,1980,1981,1982,1983,1984,1985,1986,1987,1988,1989,1990,1991,1992,1993,1994,1995,1996,1997,1998,1999,2000,2001,2002,2003,2004,2005,2006,2007,2008,2009,2010,2011,2012,2013,2014,2015,2016,2017,2018,2019,2020,2021,2030,2031,2032,2033,2034,2035,2036,2037,2038,2039,2040,2041,2042,2043,2044,2045,2046,2047,2048,2049,2050],\"xaxis\":\"x\",\"y\":[6608000.0,6655000.0,6696000.0,6732000.0,6765000.0,6794000.0,6841000.0,6880000.0,6915000.0,6945000.0,6972000.0,7013000.0,7053000.0,7091000.0,7128000.0,7163000.0,7214000.0,7258000.0,7297000.0,7332000.0,7362000.0,7405000.0,7440000.0,7468000.0,7489000.0,7504000.0,7536000.0,7558000.0,7572000.0,7581000.0,7586000.0,7595636.0,7646424.0,7699307.0,7734639.0,7625357.0,7617794.0,7596501.0,7567745.0,7540401.0,7516346.0,7503433.0,7496522.0,7480591.0,7463157.0,7440769.0,7411569.0,7381579.0,7350222.0,7320807.0,7291436.0,7234099.0,7199077.0,7164132.0,7130576.0,7095383.0,7058322.0,7020858.0,6982604.0,6945235.0,6899126.0,6834326.0,6462218.436754316,6457093.393252403,6466360.025781125,6462253.692035943,6464603.741956294,6459212.168525279,6466778.858526856,6469148.366005018,6462349.703919575,6466986.663229704,6461109.137712032,6467428.185267396,6478065.862122141,6479960.287892148,6479696.4272915125,6478509.9695471525,6474440.7797594,6474501.846943647,6474215.087198183,6474055.380772412,6473966.3024275005],\"yaxis\":\"y\",\"type\":\"scatter\"}],                        {\"template\":{\"data\":{\"histogram2dcontour\":[{\"type\":\"histogram2dcontour\",\"colorbar\":{\"outlinewidth\":0,\"ticks\":\"\"},\"colorscale\":[[0.0,\"#0d0887\"],[0.1111111111111111,\"#46039f\"],[0.2222222222222222,\"#7201a8\"],[0.3333333333333333,\"#9c179e\"],[0.4444444444444444,\"#bd3786\"],[0.5555555555555556,\"#d8576b\"],[0.6666666666666666,\"#ed7953\"],[0.7777777777777778,\"#fb9f3a\"],[0.8888888888888888,\"#fdca26\"],[1.0,\"#f0f921\"]]}],\"choropleth\":[{\"type\":\"choropleth\",\"colorbar\":{\"outlinewidth\":0,\"ticks\":\"\"}}],\"histogram2d\":[{\"type\":\"histogram2d\",\"colorbar\":{\"outlinewidth\":0,\"ticks\":\"\"},\"colorscale\":[[0.0,\"#0d0887\"],[0.1111111111111111,\"#46039f\"],[0.2222222222222222,\"#7201a8\"],[0.3333333333333333,\"#9c179e\"],[0.4444444444444444,\"#bd3786\"],[0.5555555555555556,\"#d8576b\"],[0.6666666666666666,\"#ed7953\"],[0.7777777777777778,\"#fb9f3a\"],[0.8888888888888888,\"#fdca26\"],[1.0,\"#f0f921\"]]}],\"heatmap\":[{\"type\":\"heatmap\",\"colorbar\":{\"outlinewidth\":0,\"ticks\":\"\"},\"colorscale\":[[0.0,\"#0d0887\"],[0.1111111111111111,\"#46039f\"],[0.2222222222222222,\"#7201a8\"],[0.3333333333333333,\"#9c179e\"],[0.4444444444444444,\"#bd3786\"],[0.5555555555555556,\"#d8576b\"],[0.6666666666666666,\"#ed7953\"],[0.7777777777777778,\"#fb9f3a\"],[0.8888888888888888,\"#fdca26\"],[1.0,\"#f0f921\"]]}],\"heatmapgl\":[{\"type\":\"heatmapgl\",\"colorbar\":{\"outlinewidth\":0,\"ticks\":\"\"},\"colorscale\":[[0.0,\"#0d0887\"],[0.1111111111111111,\"#46039f\"],[0.2222222222222222,\"#7201a8\"],[0.3333333333333333,\"#9c179e\"],[0.4444444444444444,\"#bd3786\"],[0.5555555555555556,\"#d8576b\"],[0.6666666666666666,\"#ed7953\"],[0.7777777777777778,\"#fb9f3a\"],[0.8888888888888888,\"#fdca26\"],[1.0,\"#f0f921\"]]}],\"contourcarpet\":[{\"type\":\"contourcarpet\",\"colorbar\":{\"outlinewidth\":0,\"ticks\":\"\"}}],\"contour\":[{\"type\":\"contour\",\"colorbar\":{\"outlinewidth\":0,\"ticks\":\"\"},\"colorscale\":[[0.0,\"#0d0887\"],[0.1111111111111111,\"#46039f\"],[0.2222222222222222,\"#7201a8\"],[0.3333333333333333,\"#9c179e\"],[0.4444444444444444,\"#bd3786\"],[0.5555555555555556,\"#d8576b\"],[0.6666666666666666,\"#ed7953\"],[0.7777777777777778,\"#fb9f3a\"],[0.8888888888888888,\"#fdca26\"],[1.0,\"#f0f921\"]]}],\"surface\":[{\"type\":\"surface\",\"colorbar\":{\"outlinewidth\":0,\"ticks\":\"\"},\"colorscale\":[[0.0,\"#0d0887\"],[0.1111111111111111,\"#46039f\"],[0.2222222222222222,\"#7201a8\"],[0.3333333333333333,\"#9c179e\"],[0.4444444444444444,\"#bd3786\"],[0.5555555555555556,\"#d8576b\"],[0.6666666666666666,\"#ed7953\"],[0.7777777777777778,\"#fb9f3a\"],[0.8888888888888888,\"#fdca26\"],[1.0,\"#f0f921\"]]}],\"mesh3d\":[{\"type\":\"mesh3d\",\"colorbar\":{\"outlinewidth\":0,\"ticks\":\"\"}}],\"scatter\":[{\"fillpattern\":{\"fillmode\":\"overlay\",\"size\":10,\"solidity\":0.2},\"type\":\"scatter\"}],\"parcoords\":[{\"type\":\"parcoords\",\"line\":{\"colorbar\":{\"outlinewidth\":0,\"ticks\":\"\"}}}],\"scatterpolargl\":[{\"type\":\"scatterpolargl\",\"marker\":{\"colorbar\":{\"outlinewidth\":0,\"ticks\":\"\"}}}],\"bar\":[{\"error_x\":{\"color\":\"#2a3f5f\"},\"error_y\":{\"color\":\"#2a3f5f\"},\"marker\":{\"line\":{\"color\":\"#E5ECF6\",\"width\":0.5},\"pattern\":{\"fillmode\":\"overlay\",\"size\":10,\"solidity\":0.2}},\"type\":\"bar\"}],\"scattergeo\":[{\"type\":\"scattergeo\",\"marker\":{\"colorbar\":{\"outlinewidth\":0,\"ticks\":\"\"}}}],\"scatterpolar\":[{\"type\":\"scatterpolar\",\"marker\":{\"colorbar\":{\"outlinewidth\":0,\"ticks\":\"\"}}}],\"histogram\":[{\"marker\":{\"pattern\":{\"fillmode\":\"overlay\",\"size\":10,\"solidity\":0.2}},\"type\":\"histogram\"}],\"scattergl\":[{\"type\":\"scattergl\",\"marker\":{\"colorbar\":{\"outlinewidth\":0,\"ticks\":\"\"}}}],\"scatter3d\":[{\"type\":\"scatter3d\",\"line\":{\"colorbar\":{\"outlinewidth\":0,\"ticks\":\"\"}},\"marker\":{\"colorbar\":{\"outlinewidth\":0,\"ticks\":\"\"}}}],\"scattermapbox\":[{\"type\":\"scattermapbox\",\"marker\":{\"colorbar\":{\"outlinewidth\":0,\"ticks\":\"\"}}}],\"scatterternary\":[{\"type\":\"scatterternary\",\"marker\":{\"colorbar\":{\"outlinewidth\":0,\"ticks\":\"\"}}}],\"scattercarpet\":[{\"type\":\"scattercarpet\",\"marker\":{\"colorbar\":{\"outlinewidth\":0,\"ticks\":\"\"}}}],\"carpet\":[{\"aaxis\":{\"endlinecolor\":\"#2a3f5f\",\"gridcolor\":\"white\",\"linecolor\":\"white\",\"minorgridcolor\":\"white\",\"startlinecolor\":\"#2a3f5f\"},\"baxis\":{\"endlinecolor\":\"#2a3f5f\",\"gridcolor\":\"white\",\"linecolor\":\"white\",\"minorgridcolor\":\"white\",\"startlinecolor\":\"#2a3f5f\"},\"type\":\"carpet\"}],\"table\":[{\"cells\":{\"fill\":{\"color\":\"#EBF0F8\"},\"line\":{\"color\":\"white\"}},\"header\":{\"fill\":{\"color\":\"#C8D4E3\"},\"line\":{\"color\":\"white\"}},\"type\":\"table\"}],\"barpolar\":[{\"marker\":{\"line\":{\"color\":\"#E5ECF6\",\"width\":0.5},\"pattern\":{\"fillmode\":\"overlay\",\"size\":10,\"solidity\":0.2}},\"type\":\"barpolar\"}],\"pie\":[{\"automargin\":true,\"type\":\"pie\"}]},\"layout\":{\"autotypenumbers\":\"strict\",\"colorway\":[\"#636efa\",\"#EF553B\",\"#00cc96\",\"#ab63fa\",\"#FFA15A\",\"#19d3f3\",\"#FF6692\",\"#B6E880\",\"#FF97FF\",\"#FECB52\"],\"font\":{\"color\":\"#2a3f5f\"},\"hovermode\":\"closest\",\"hoverlabel\":{\"align\":\"left\"},\"paper_bgcolor\":\"white\",\"plot_bgcolor\":\"#E5ECF6\",\"polar\":{\"bgcolor\":\"#E5ECF6\",\"angularaxis\":{\"gridcolor\":\"white\",\"linecolor\":\"white\",\"ticks\":\"\"},\"radialaxis\":{\"gridcolor\":\"white\",\"linecolor\":\"white\",\"ticks\":\"\"}},\"ternary\":{\"bgcolor\":\"#E5ECF6\",\"aaxis\":{\"gridcolor\":\"white\",\"linecolor\":\"white\",\"ticks\":\"\"},\"baxis\":{\"gridcolor\":\"white\",\"linecolor\":\"white\",\"ticks\":\"\"},\"caxis\":{\"gridcolor\":\"white\",\"linecolor\":\"white\",\"ticks\":\"\"}},\"coloraxis\":{\"colorbar\":{\"outlinewidth\":0,\"ticks\":\"\"}},\"colorscale\":{\"sequential\":[[0.0,\"#0d0887\"],[0.1111111111111111,\"#46039f\"],[0.2222222222222222,\"#7201a8\"],[0.3333333333333333,\"#9c179e\"],[0.4444444444444444,\"#bd3786\"],[0.5555555555555556,\"#d8576b\"],[0.6666666666666666,\"#ed7953\"],[0.7777777777777778,\"#fb9f3a\"],[0.8888888888888888,\"#fdca26\"],[1.0,\"#f0f921\"]],\"sequentialminus\":[[0.0,\"#0d0887\"],[0.1111111111111111,\"#46039f\"],[0.2222222222222222,\"#7201a8\"],[0.3333333333333333,\"#9c179e\"],[0.4444444444444444,\"#bd3786\"],[0.5555555555555556,\"#d8576b\"],[0.6666666666666666,\"#ed7953\"],[0.7777777777777778,\"#fb9f3a\"],[0.8888888888888888,\"#fdca26\"],[1.0,\"#f0f921\"]],\"diverging\":[[0,\"#8e0152\"],[0.1,\"#c51b7d\"],[0.2,\"#de77ae\"],[0.3,\"#f1b6da\"],[0.4,\"#fde0ef\"],[0.5,\"#f7f7f7\"],[0.6,\"#e6f5d0\"],[0.7,\"#b8e186\"],[0.8,\"#7fbc41\"],[0.9,\"#4d9221\"],[1,\"#276419\"]]},\"xaxis\":{\"gridcolor\":\"white\",\"linecolor\":\"white\",\"ticks\":\"\",\"title\":{\"standoff\":15},\"zerolinecolor\":\"white\",\"automargin\":true,\"zerolinewidth\":2},\"yaxis\":{\"gridcolor\":\"white\",\"linecolor\":\"white\",\"ticks\":\"\",\"title\":{\"standoff\":15},\"zerolinecolor\":\"white\",\"automargin\":true,\"zerolinewidth\":2},\"scene\":{\"xaxis\":{\"backgroundcolor\":\"#E5ECF6\",\"gridcolor\":\"white\",\"linecolor\":\"white\",\"showbackground\":true,\"ticks\":\"\",\"zerolinecolor\":\"white\",\"gridwidth\":2},\"yaxis\":{\"backgroundcolor\":\"#E5ECF6\",\"gridcolor\":\"white\",\"linecolor\":\"white\",\"showbackground\":true,\"ticks\":\"\",\"zerolinecolor\":\"white\",\"gridwidth\":2},\"zaxis\":{\"backgroundcolor\":\"#E5ECF6\",\"gridcolor\":\"white\",\"linecolor\":\"white\",\"showbackground\":true,\"ticks\":\"\",\"zerolinecolor\":\"white\",\"gridwidth\":2}},\"shapedefaults\":{\"line\":{\"color\":\"#2a3f5f\"}},\"annotationdefaults\":{\"arrowcolor\":\"#2a3f5f\",\"arrowhead\":0,\"arrowwidth\":1},\"geo\":{\"bgcolor\":\"white\",\"landcolor\":\"#E5ECF6\",\"subunitcolor\":\"white\",\"showland\":true,\"showlakes\":true,\"lakecolor\":\"white\"},\"title\":{\"x\":0.05},\"mapbox\":{\"style\":\"light\"}}},\"xaxis\":{\"anchor\":\"y\",\"domain\":[0.0,1.0],\"title\":{\"text\":\"Year\"}},\"yaxis\":{\"anchor\":\"x\",\"domain\":[0.0,1.0],\"title\":{\"text\":\"Total Population\"}},\"legend\":{\"title\":{\"text\":\"Country\"},\"tracegroupgap\":0},\"title\":{\"text\":\"Western Balkan Countries Population Prediction (CNN)\"}},                        {\"responsive\": true}                    ).then(function(){\n",
       "                            \n",
       "var gd = document.getElementById('304e910d-ae27-4e01-87aa-f91d7341d114');\n",
       "var x = new MutationObserver(function (mutations, observer) {{\n",
       "        var display = window.getComputedStyle(gd).display;\n",
       "        if (!display || display === 'none') {{\n",
       "            console.log([gd, 'removed!']);\n",
       "            Plotly.purge(gd);\n",
       "            observer.disconnect();\n",
       "        }}\n",
       "}});\n",
       "\n",
       "// Listen for the removal of the full notebook cells\n",
       "var notebookContainer = gd.closest('#notebook-container');\n",
       "if (notebookContainer) {{\n",
       "    x.observe(notebookContainer, {childList: true});\n",
       "}}\n",
       "\n",
       "// Listen for the clearing of the current output cell\n",
       "var outputEl = gd.closest('.output');\n",
       "if (outputEl) {{\n",
       "    x.observe(outputEl, {childList: true});\n",
       "}}\n",
       "\n",
       "                        })                };                });            </script>        </div>"
      ]
     },
     "metadata": {},
     "output_type": "display_data"
    }
   ],
   "source": [
    "# Plot results\n",
    "fig = px.line(all_predictions_df, x='Year', y='Total Population', color='Country', title='Western Balkan Countries Population Prediction (CNN)')\n",
    "fig.show()"
   ]
  },
  {
   "cell_type": "code",
   "execution_count": 61,
   "id": "4c8b0a9f-6778-4712-9617-d4c4f490a1d4",
   "metadata": {},
   "outputs": [
    {
     "name": "stdout",
     "output_type": "stream",
     "text": [
      "Kosovo Population Predictions:\n",
      "2030 Population: 777,168\n",
      "2040 Population: 805,268\n",
      "2050 Population: 810,170\n",
      "\n",
      "Montenegro Population Predictions:\n",
      "2030 Population: 459,133\n",
      "2040 Population: 463,865\n",
      "2050 Population: 463,455\n",
      "\n",
      "North Macedonia Population Predictions:\n",
      "2030 Population: 1,369,465\n",
      "2040 Population: 1,389,946\n",
      "2050 Population: 1,388,172\n",
      "\n",
      "Albania Population Predictions:\n",
      "2030 Population: 1,366,193\n",
      "2040 Population: 1,400,550\n",
      "2050 Population: 1,407,310\n",
      "\n",
      "Bosnia and Herzegovina Population Predictions:\n",
      "2030 Population: 3,106,598\n",
      "2040 Population: 3,109,484\n",
      "2050 Population: 3,115,087\n",
      "\n",
      "Serbia Population Predictions:\n",
      "2030 Population: 6,462,218\n",
      "2040 Population: 6,461,109\n",
      "2050 Population: 6,473,966\n",
      "\n"
     ]
    }
   ],
   "source": [
    "\n",
    "# Display future population predictions for each country\n",
    "for country in countries:\n",
    "    country_data = all_predictions_df[all_predictions_df['Country'] == country]\n",
    "    print(f\"{country} Population Predictions:\")\n",
    "    print(f\"2030 Population: {country_data[country_data['Year'] == 2030]['Total Population'].values[0]:,.0f}\")\n",
    "    print(f\"2040 Population: {country_data[country_data['Year'] == 2040]['Total Population'].values[0]:,.0f}\")\n",
    "    print(f\"2050 Population: {country_data[country_data['Year'] == 2050]['Total Population'].values[0]:,.0f}\")\n",
    "    print()\n"
   ]
  },
  {
   "cell_type": "code",
   "execution_count": null,
   "id": "2180ad8e-2a00-402e-8d02-1037a9ab2c60",
   "metadata": {},
   "outputs": [],
   "source": []
  },
  {
   "cell_type": "code",
   "execution_count": null,
   "id": "4d2cdb19-cc2a-4632-8c23-82e8a5155999",
   "metadata": {},
   "outputs": [],
   "source": []
  },
  {
   "cell_type": "code",
   "execution_count": null,
   "id": "a5e4ea42-2793-4320-be3c-b3861bfdbcd3",
   "metadata": {},
   "outputs": [],
   "source": []
  }
 ],
 "metadata": {
  "kernelspec": {
   "display_name": "Python 3 (ipykernel)",
   "language": "python",
   "name": "python3"
  },
  "language_info": {
   "codemirror_mode": {
    "name": "ipython",
    "version": 3
   },
   "file_extension": ".py",
   "mimetype": "text/x-python",
   "name": "python",
   "nbconvert_exporter": "python",
   "pygments_lexer": "ipython3",
   "version": "3.12.3"
  }
 },
 "nbformat": 4,
 "nbformat_minor": 5
}
